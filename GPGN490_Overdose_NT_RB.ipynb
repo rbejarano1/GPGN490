{
 "cells": [
  {
   "cell_type": "markdown",
   "id": "moderate-refrigerator",
   "metadata": {},
   "source": [
    "## GPGN 490. Opioid overdose risk prediction in San Diego County using geoenrichment and machine learning \n",
    "\n",
    "Team members. Nhat Thai (A59004446) & Raul Bejarano (A59006248) "
   ]
  },
  {
   "cell_type": "markdown",
   "id": "dated-strike",
   "metadata": {},
   "source": [
    "Question \n",
    "\n",
    "What subregional areas in San Diego County are at higher risk of opioid overdose in the future? North America is experiencing a public health crisis due to high levels of fatal overdoses from opioid use(1). In 2019, nearly 50,000 and 4,000 people died from opioid-related overdoses in the United States and Canada, respectively (2,3). This number increased during the COVID-19 epidemic, reaching historic levels in both countries (4). "
   ]
  }
 ],
 "metadata": {
  "kernelspec": {
   "display_name": "Python 3",
   "language": "python",
   "name": "python3"
  },
  "language_info": {
   "codemirror_mode": {
    "name": "ipython",
    "version": 3
   },
   "file_extension": ".py",
   "mimetype": "text/x-python",
   "name": "python",
   "nbconvert_exporter": "python",
   "pygments_lexer": "ipython3",
   "version": "3.8.6"
  }
 },
 "nbformat": 4,
 "nbformat_minor": 5
}
